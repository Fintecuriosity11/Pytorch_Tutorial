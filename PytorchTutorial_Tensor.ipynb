{
  "nbformat": 4,
  "nbformat_minor": 0,
  "metadata": {
    "colab": {
      "name": "PytorchTutorial_Tensor.ipynb",
      "provenance": [],
      "authorship_tag": "ABX9TyMq8CBLmNrCyzEUZ5BNB00V",
      "include_colab_link": true
    },
    "kernelspec": {
      "name": "python3",
      "display_name": "Python 3"
    }
  },
  "cells": [
    {
      "cell_type": "markdown",
      "metadata": {
        "id": "view-in-github",
        "colab_type": "text"
      },
      "source": [
        "<a href=\"https://colab.research.google.com/github/Fintecuriosity11/Pytorch_Tutorial01/blob/master/PytorchTutorial_Tensor.ipynb\" target=\"_parent\"><img src=\"https://colab.research.google.com/assets/colab-badge.svg\" alt=\"Open In Colab\"/></a>"
      ]
    },
    {
      "cell_type": "markdown",
      "metadata": {
        "id": "ZFI5jSMT9We4",
        "colab_type": "text"
      },
      "source": [
        "![대체 텍스트](https://pytorch.org/tutorials/_images/pytorch-logo-flat.png)\n",
        "# Import Pytorch  "
      ]
    },
    {
      "cell_type": "code",
      "metadata": {
        "id": "147G-XIE8Xl2",
        "colab_type": "code",
        "colab": {}
      },
      "source": [
        "from __future__ import print_function\n",
        "import torch"
      ],
      "execution_count": 0,
      "outputs": []
    },
    {
      "cell_type": "markdown",
      "metadata": {
        "id": "7BTF9sO2A6X6",
        "colab_type": "text"
      },
      "source": [
        "Construct a 5x3 matrix, **uninitialized:** \n",
        "초기화 돼지 않은 행렬 (5 * 3)  생성\n",
        "\n",
        "An uninitialized matrix is declared, but does not contain definite known values before it is used. When an uninitialized matrix is created, whatever values were in the allocated memory at the time will appear as the initial values.\n",
        "\n",
        "초기화되지 않은 행렬이 선언되었지만, 사용하기 전에는 명확히 알려진 값을 포함하고 있지는 않습니다. 초기화되지 않은 행렬이 생성되면 그 시점에 할당된 메모리에 존재하던 값들이 초기값으로 나타납니다."
      ]
    },
    {
      "cell_type": "code",
      "metadata": {
        "id": "cRyBmaONAzxf",
        "colab_type": "code",
        "outputId": "d97ccd9d-3c70-4581-a83e-e24a6c846943",
        "colab": {
          "base_uri": "https://localhost:8080/",
          "height": 107
        }
      },
      "source": [
        "x = torch.empty(5, 3)\n",
        "print(x)\n"
      ],
      "execution_count": 0,
      "outputs": [
        {
          "output_type": "stream",
          "text": [
            "tensor([[1.5934e-35, 0.0000e+00, 0.0000e+00],\n",
            "        [0.0000e+00, 0.0000e+00, 0.0000e+00],\n",
            "        [0.0000e+00, 0.0000e+00, 2.8026e-45],\n",
            "        [0.0000e+00, 1.1210e-44, 0.0000e+00],\n",
            "        [1.4013e-45, 0.0000e+00, 0.0000e+00]])\n"
          ],
          "name": "stdout"
        }
      ]
    },
    {
      "cell_type": "markdown",
      "metadata": {
        "id": "Vm6pBnJtDLbX",
        "colab_type": "text"
      },
      "source": [
        "Construct a randomly **initialized** matrix: 임의로 초기화 된 행렬 생성\n",
        "\n"
      ]
    },
    {
      "cell_type": "code",
      "metadata": {
        "id": "J_jykb7zDLyP",
        "colab_type": "code",
        "outputId": "b870691a-707b-47c2-ca48-b630c7a4131f",
        "colab": {
          "base_uri": "https://localhost:8080/",
          "height": 107
        }
      },
      "source": [
        "x = torch.rand(5, 3)\n",
        "print(x)"
      ],
      "execution_count": 0,
      "outputs": [
        {
          "output_type": "stream",
          "text": [
            "tensor([[0.0889, 0.7903, 0.3336],\n",
            "        [0.4673, 0.7828, 0.6152],\n",
            "        [0.3602, 0.8705, 0.9681],\n",
            "        [0.2764, 0.9806, 0.2126],\n",
            "        [0.4674, 0.8748, 0.1481]])\n"
          ],
          "name": "stdout"
        }
      ]
    },
    {
      "cell_type": "markdown",
      "metadata": {
        "id": "vCwLq2dIDwJu",
        "colab_type": "text"
      },
      "source": [
        "Construct a matrix **filled zeros** and of **dtype long**: 데이터 타입이 long인 5*3 행렬 0으로 채움     \n",
        "\n",
        "long (정수형) 8 byte\n",
        "\n"
      ]
    },
    {
      "cell_type": "code",
      "metadata": {
        "id": "NIuOCeIjDv_E",
        "colab_type": "code",
        "outputId": "007f2eca-f7f4-4e6a-98d7-ca274e558334",
        "colab": {
          "base_uri": "https://localhost:8080/",
          "height": 107
        }
      },
      "source": [
        "x = torch.zeros(5, 3, dtype=torch.long)\n",
        "print(x)"
      ],
      "execution_count": 0,
      "outputs": [
        {
          "output_type": "stream",
          "text": [
            "tensor([[0, 0, 0],\n",
            "        [0, 0, 0],\n",
            "        [0, 0, 0],\n",
            "        [0, 0, 0],\n",
            "        [0, 0, 0]])\n"
          ],
          "name": "stdout"
        }
      ]
    },
    {
      "cell_type": "markdown",
      "metadata": {
        "id": "XL84MqkJE23R",
        "colab_type": "text"
      },
      "source": [
        "Construct a tensor **directly** from data: 데이터로부터 tensor 직접 생성\n",
        "\n"
      ]
    },
    {
      "cell_type": "code",
      "metadata": {
        "id": "upeLLODFEr3s",
        "colab_type": "code",
        "outputId": "b13b93fc-ee50-4e7c-a5d2-0c5d98805870",
        "colab": {
          "base_uri": "https://localhost:8080/",
          "height": 35
        }
      },
      "source": [
        "x = torch.tensor([5.5, 3])\n",
        "print(x)"
      ],
      "execution_count": 0,
      "outputs": [
        {
          "output_type": "stream",
          "text": [
            "tensor([5.5000, 3.0000])\n"
          ],
          "name": "stdout"
        }
      ]
    },
    {
      "cell_type": "markdown",
      "metadata": {
        "id": "QwEGHhb6FicA",
        "colab_type": "text"
      },
      "source": [
        "or create a tensor based on an existing tensor. These methods will reuse properties of the input tensor, e.g. dtype, unless new values are provided by user.\n",
        "\n",
        "또는 존재하는 tensor를 바탕으로 tensor를 만듭니다. 이 메소드(method)들은 사용자로부터 제공된 새로운 값이 없는 한, 입력 tensor의 속성들(예. dtype)을 재사용합니다."
      ]
    },
    {
      "cell_type": "code",
      "metadata": {
        "id": "qXZFn2PkFil3",
        "colab_type": "code",
        "outputId": "8d61ed4a-907d-4844-b910-adb5b1212178",
        "colab": {
          "base_uri": "https://localhost:8080/",
          "height": 197
        }
      },
      "source": [
        "x = x.new_ones(5, 3, dtype=torch.double)      # new_* methods take in sizes    # new_* 메소드는 크기를 받습니다\n",
        "print(x)                                      \n",
        "\n",
        "x = torch.randn_like(x, dtype=torch.float)    # override dtype!                # dtype을 오버라이드(Override) 합니다!\n",
        "print(x)                                      # result has the same size       # 결과는 동일한 크기를 갖습니다\n",
        "\n",
        "                                              \n",
        "                                             "
      ],
      "execution_count": 0,
      "outputs": [
        {
          "output_type": "stream",
          "text": [
            "tensor([[1., 1., 1.],\n",
            "        [1., 1., 1.],\n",
            "        [1., 1., 1.],\n",
            "        [1., 1., 1.],\n",
            "        [1., 1., 1.]], dtype=torch.float64)\n",
            "tensor([[ 0.5815,  0.3559,  0.2511],\n",
            "        [ 1.0914,  0.9270,  0.9231],\n",
            "        [-0.0882,  1.4813, -0.9666],\n",
            "        [ 0.3309,  0.5235,  1.1679],\n",
            "        [ 0.8769,  0.8438,  0.8069]])\n"
          ],
          "name": "stdout"
        }
      ]
    },
    {
      "cell_type": "markdown",
      "metadata": {
        "id": "L-eP-8GdXQUd",
        "colab_type": "text"
      },
      "source": [
        "Get its size: 행렬의 크기를 구하는 법"
      ]
    },
    {
      "cell_type": "code",
      "metadata": {
        "id": "ALFobupwXQZB",
        "colab_type": "code",
        "outputId": "c66eef3f-a26b-4a14-9794-d1fa01b94800",
        "colab": {
          "base_uri": "https://localhost:8080/",
          "height": 35
        }
      },
      "source": [
        "print(x.size())"
      ],
      "execution_count": 0,
      "outputs": [
        {
          "output_type": "stream",
          "text": [
            "torch.Size([5, 3])\n"
          ],
          "name": "stdout"
        }
      ]
    },
    {
      "cell_type": "markdown",
      "metadata": {
        "id": "cicWhR2GX2dr",
        "colab_type": "text"
      },
      "source": [
        "# Operations (연산)"
      ]
    },
    {
      "cell_type": "markdown",
      "metadata": {
        "id": "VI3L7SfHX_Up",
        "colab_type": "text"
      },
      "source": [
        "Addition: syntax 1 = 덧셈 문법 1"
      ]
    },
    {
      "cell_type": "code",
      "metadata": {
        "id": "8N-oDb2EX2nH",
        "colab_type": "code",
        "outputId": "16913f98-721b-4c61-875f-314ddbbf650d",
        "colab": {
          "base_uri": "https://localhost:8080/",
          "height": 107
        }
      },
      "source": [
        "y = torch.rand(5, 3)\n",
        "print(x + y)"
      ],
      "execution_count": 0,
      "outputs": [
        {
          "output_type": "stream",
          "text": [
            "tensor([[ 1.0794,  0.7467,  1.1399],\n",
            "        [ 1.8997,  1.2924,  1.2541],\n",
            "        [ 0.2994,  2.0264, -0.1703],\n",
            "        [ 0.9545,  0.5755,  1.5057],\n",
            "        [ 0.8999,  1.7795,  1.7312]])\n"
          ],
          "name": "stdout"
        }
      ]
    },
    {
      "cell_type": "markdown",
      "metadata": {
        "id": "YCrSnAsJYfl1",
        "colab_type": "text"
      },
      "source": [
        "Addition: syntax 2 = 덧셈 문법 2"
      ]
    },
    {
      "cell_type": "code",
      "metadata": {
        "id": "RustRxEBYjD9",
        "colab_type": "code",
        "outputId": "7916a9fb-336f-4d2d-b045-29d68299029d",
        "colab": {
          "base_uri": "https://localhost:8080/",
          "height": 107
        }
      },
      "source": [
        "print(torch.add(x, y))"
      ],
      "execution_count": 0,
      "outputs": [
        {
          "output_type": "stream",
          "text": [
            "tensor([[ 1.0794,  0.7467,  1.1399],\n",
            "        [ 1.8997,  1.2924,  1.2541],\n",
            "        [ 0.2994,  2.0264, -0.1703],\n",
            "        [ 0.9545,  0.5755,  1.5057],\n",
            "        [ 0.8999,  1.7795,  1.7312]])\n"
          ],
          "name": "stdout"
        }
      ]
    },
    {
      "cell_type": "markdown",
      "metadata": {
        "id": "LWdZVnjIYqxn",
        "colab_type": "text"
      },
      "source": [
        "Addition: providing an output tensor as argument = 덧셈: 결과 tensor를 인자로 제공"
      ]
    },
    {
      "cell_type": "code",
      "metadata": {
        "id": "5CBmn4GpYq6X",
        "colab_type": "code",
        "outputId": "e405f1f4-de51-46f6-9a0b-5470038c1e61",
        "colab": {
          "base_uri": "https://localhost:8080/",
          "height": 107
        }
      },
      "source": [
        "result = torch.empty(5, 3)\n",
        "torch.add(x, y, out=result)\n",
        "print(result)"
      ],
      "execution_count": 0,
      "outputs": [
        {
          "output_type": "stream",
          "text": [
            "tensor([[ 1.0794,  0.7467,  1.1399],\n",
            "        [ 1.8997,  1.2924,  1.2541],\n",
            "        [ 0.2994,  2.0264, -0.1703],\n",
            "        [ 0.9545,  0.5755,  1.5057],\n",
            "        [ 0.8999,  1.7795,  1.7312]])\n"
          ],
          "name": "stdout"
        }
      ]
    },
    {
      "cell_type": "markdown",
      "metadata": {
        "id": "jB1pVTBlYzrj",
        "colab_type": "text"
      },
      "source": [
        "Addition: in-place / 덧셈: 바꿔치기(In-place) 방식\n",
        "\n",
        "* Any operation that mutates a tensor in-place is post-fixed with an _. For example: x.copy_(y), x.t_(), will change x.\n",
        "\n",
        "\n",
        "* 바꿔치기(In-place) 방식으로 tensor의 값을 변경하는 연산은 _ 를 접미사로 갖습니다. 예: x.copy_(y), x.t_() 는 x 를 변경합니다.\n",
        "\n"
      ]
    },
    {
      "cell_type": "code",
      "metadata": {
        "id": "BAmCabu2Yzx_",
        "colab_type": "code",
        "outputId": "ef57b1df-4efd-428b-c190-a7944e9e5683",
        "colab": {
          "base_uri": "https://localhost:8080/",
          "height": 107
        }
      },
      "source": [
        "# adds x to y\n",
        "y.add_(x)\n",
        "print(y)"
      ],
      "execution_count": 0,
      "outputs": [
        {
          "output_type": "stream",
          "text": [
            "tensor([[ 1.0794,  0.7467,  1.1399],\n",
            "        [ 1.8997,  1.2924,  1.2541],\n",
            "        [ 0.2994,  2.0264, -0.1703],\n",
            "        [ 0.9545,  0.5755,  1.5057],\n",
            "        [ 0.8999,  1.7795,  1.7312]])\n"
          ],
          "name": "stdout"
        }
      ]
    },
    {
      "cell_type": "markdown",
      "metadata": {
        "id": "h99Tai_tZTak",
        "colab_type": "text"
      },
      "source": [
        "* You can use standard NumPy-like indexing with all bells and whistles!\n",
        "\n",
        "* NumPy스러운 인덱싱 표기 방법을 사용할 수도 있음"
      ]
    },
    {
      "cell_type": "code",
      "metadata": {
        "id": "fcxAKbk8ZTS-",
        "colab_type": "code",
        "outputId": "9ae7346a-1d37-4bf7-cc97-c20774be0de8",
        "colab": {
          "base_uri": "https://localhost:8080/",
          "height": 35
        }
      },
      "source": [
        "print(x[:, 1])"
      ],
      "execution_count": 0,
      "outputs": [
        {
          "output_type": "stream",
          "text": [
            "tensor([0.3559, 0.9270, 1.4813, 0.5235, 0.8438])\n"
          ],
          "name": "stdout"
        }
      ]
    },
    {
      "cell_type": "markdown",
      "metadata": {
        "id": "ttTnabNNc5oT",
        "colab_type": "text"
      },
      "source": [
        "Resizing: If you want to resize/reshape tensor, you can use torch.view: / "
      ]
    },
    {
      "cell_type": "code",
      "metadata": {
        "id": "0YEkCAAbc5xw",
        "colab_type": "code",
        "outputId": "fb772db8-269f-4391-83db-bb7820c53447",
        "colab": {
          "base_uri": "https://localhost:8080/",
          "height": 35
        }
      },
      "source": [
        "x = torch.randn(4, 4)\n",
        "y = x.view(16)     #torch.view 함수로 텐서의 모양 변경  \n",
        "z = x.view(-1, 8)  # the size -1 is inferred from other dimensions\n",
        "print(x.size(), y.size(), z.size())"
      ],
      "execution_count": 0,
      "outputs": [
        {
          "output_type": "stream",
          "text": [
            "torch.Size([4, 4]) torch.Size([16]) torch.Size([2, 8])\n"
          ],
          "name": "stdout"
        }
      ]
    },
    {
      "cell_type": "markdown",
      "metadata": {
        "id": "uWIoGbZzduSd",
        "colab_type": "text"
      },
      "source": [
        "If you have a one element tensor, use .item() to get the value as a Python number / 만약 tensor에 하나의 값만 존재한다면, .item() 을 사용하면 숫자 값을 얻을 수 있습니다."
      ]
    },
    {
      "cell_type": "code",
      "metadata": {
        "id": "SKDuwsyqduYP",
        "colab_type": "code",
        "outputId": "ebd63825-3902-4ac0-a978-972a6de3d351",
        "colab": {
          "base_uri": "https://localhost:8080/",
          "height": 53
        }
      },
      "source": [
        "x = torch.randn(1)\n",
        "print(x)\n",
        "print(x.item())"
      ],
      "execution_count": 0,
      "outputs": [
        {
          "output_type": "stream",
          "text": [
            "tensor([-0.3802])\n",
            "-0.38017404079437256\n"
          ],
          "name": "stdout"
        }
      ]
    },
    {
      "cell_type": "markdown",
      "metadata": {
        "id": "IvDlnvk5d8yD",
        "colab_type": "text"
      },
      "source": [
        "#NumPy Bridge (변환)\n",
        "\n",
        "* Converting a Torch Tensor to a NumPy array and vice versa is a breeze.\n",
        "\n",
        "* The Torch Tensor and NumPy array will share their underlying memory locations (if the Torch Tensor is on CPU), and changing one will change the other.\n",
        "\n",
        "\n",
        "* Torch Tensor를 NumPy 배열(array)로 변환하거나, 그 반대로 하는 것은 매우 쉽습니다.\n",
        "\n",
        "* (CPU 상의) Torch Tensor와 NumPy 배열은 저장 공간을 공유하기 때문에, 하나를 변경하면 다른 하나도 변경됩니다."
      ]
    },
    {
      "cell_type": "markdown",
      "metadata": {
        "id": "tqvnChlteYsP",
        "colab_type": "text"
      },
      "source": [
        "Converting a Torch Tensor to a NumPy Array / Torch Tensor를 NumPy 배열로 변환하기"
      ]
    },
    {
      "cell_type": "code",
      "metadata": {
        "id": "PLL-0PPVeevH",
        "colab_type": "code",
        "outputId": "1d65dbc0-d433-4a75-bcd1-12aa903c09fb",
        "colab": {
          "base_uri": "https://localhost:8080/",
          "height": 35
        }
      },
      "source": [
        "a = torch.ones(5)        #torch.one= \n",
        "print(a)"
      ],
      "execution_count": 0,
      "outputs": [
        {
          "output_type": "stream",
          "text": [
            "tensor([1., 1., 1., 1., 1.])\n"
          ],
          "name": "stdout"
        }
      ]
    },
    {
      "cell_type": "markdown",
      "metadata": {
        "id": "aDd4o1UHfHiG",
        "colab_type": "text"
      },
      "source": [
        "2nd Example"
      ]
    },
    {
      "cell_type": "code",
      "metadata": {
        "id": "3fsh8k8efHm4",
        "colab_type": "code",
        "outputId": "d8622c9e-fec5-4394-ab4b-562c0c35183c",
        "colab": {
          "base_uri": "https://localhost:8080/",
          "height": 35
        }
      },
      "source": [
        "b = a.numpy()\n",
        "print(b)\n"
      ],
      "execution_count": 0,
      "outputs": [
        {
          "output_type": "stream",
          "text": [
            "[1. 1. 1. 1. 1.]\n"
          ],
          "name": "stdout"
        }
      ]
    },
    {
      "cell_type": "markdown",
      "metadata": {
        "id": "szsbKo7effgn",
        "colab_type": "text"
      },
      "source": [
        "See how the numpy array changed in value. / NumPy 배열의 값이 어떻게 변하는지 확인"
      ]
    },
    {
      "cell_type": "code",
      "metadata": {
        "id": "J5pThbFFffsC",
        "colab_type": "code",
        "outputId": "d8426638-25cb-4872-9c93-6d8da5072e6f",
        "colab": {
          "base_uri": "https://localhost:8080/",
          "height": 53
        }
      },
      "source": [
        "a.add_(1)\n",
        "print(a)\n",
        "print(b)"
      ],
      "execution_count": 0,
      "outputs": [
        {
          "output_type": "stream",
          "text": [
            "tensor([2., 2., 2., 2., 2.])\n",
            "[2. 2. 2. 2. 2.]\n"
          ],
          "name": "stdout"
        }
      ]
    },
    {
      "cell_type": "markdown",
      "metadata": {
        "id": "gIw52FXBf3v5",
        "colab_type": "text"
      },
      "source": [
        "# Converting NumPy Array to Torch Tensor / NumPy 배열을 Torch Tensor로 변환하기"
      ]
    },
    {
      "cell_type": "code",
      "metadata": {
        "id": "VelQcBf1f9-N",
        "colab_type": "code",
        "outputId": "b1afdf9d-071e-41e8-9bbb-cfe5419f417d",
        "colab": {
          "base_uri": "https://localhost:8080/",
          "height": 53
        }
      },
      "source": [
        "import numpy as np         # NumPy import해오는 과정\n",
        "a = np.ones(5)             # np.one \n",
        "b = torch.from_numpy(a)    # Numpy Array -> Torch Tensor\n",
        "np.add(a, 1, out=a)\n",
        "print(a)\n",
        "print(b)"
      ],
      "execution_count": 0,
      "outputs": [
        {
          "output_type": "stream",
          "text": [
            "[2. 2. 2. 2. 2.]\n",
            "tensor([2., 2., 2., 2., 2.], dtype=torch.float64)\n"
          ],
          "name": "stdout"
        }
      ]
    }
  ]
}