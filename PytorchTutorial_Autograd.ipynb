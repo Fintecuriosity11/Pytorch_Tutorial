{
  "nbformat": 4,
  "nbformat_minor": 0,
  "metadata": {
    "colab": {
      "name": "PytorchTutorial_Autograd.ipynb",
      "provenance": [],
      "collapsed_sections": [],
      "authorship_tag": "ABX9TyNRu4f13fJZhU/NLJ4Da/Xd"
    },
    "kernelspec": {
      "name": "python3",
      "display_name": "Python 3"
    }
  },
  "cells": [
    {
      "cell_type": "markdown",
      "metadata": {
        "id": "un0zj_iGiLjj",
        "colab_type": "text"
      },
      "source": [
        "# AUTOGRAD: AUTOMATIC DIFFERENTIATION / 자동 미분\n",
        "\n",
        "> The autograd package provides automatic differentiation for all operations on Tensors. It is a define-by-run framework, which means that your backprop is defined by how your code is run, and that every single iteration can be different.\n",
        "\n",
        "> autograd 패키지는 Tensor의 모든 연산에 대해 자동 미분을 제공합니다. 이는 실행-기반-정의(define-by-run) 프레임워크로, 이는 코드를 어떻게 작성하여 실행하느냐에 따라 역전파가 정의된다는 뜻이며, 역전파는 학습 과정의 매 단계마다 달라집니다.\n",
        "\n"
      ]
    },
    {
      "cell_type": "markdown",
      "metadata": {
        "id": "nEV9x4k5i3Ut",
        "colab_type": "text"
      },
      "source": [
        "Create a tensor and set requires_grad=True to track computation with it / tensor를 생성하고 requires_grad=True 를 설정하여 연산을 기록합니다."
      ]
    },
    {
      "cell_type": "code",
      "metadata": {
        "id": "W_lPvdKgh3Ep",
        "colab_type": "code",
        "colab": {
          "base_uri": "https://localhost:8080/",
          "height": 53
        },
        "outputId": "3a610664-766c-4178-83fb-1f91d7931f23"
      },
      "source": [
        "import torch                                     # Always import \"torch\" package first\n",
        "\n",
        "x = torch.ones(2, 2, requires_grad=True)         # requires_grad는 \n",
        "print(x)"
      ],
      "execution_count": 2,
      "outputs": [
        {
          "output_type": "stream",
          "text": [
            "tensor([[1., 1.],\n",
            "        [1., 1.]], requires_grad=True)\n"
          ],
          "name": "stdout"
        }
      ]
    },
    {
      "cell_type": "markdown",
      "metadata": {
        "id": "CP7Da5BrlHgV",
        "colab_type": "text"
      },
      "source": [
        "Do a tensor operation: / tensor에 연산을 수행"
      ]
    },
    {
      "cell_type": "code",
      "metadata": {
        "id": "b3dMWPYFlHm4",
        "colab_type": "code",
        "colab": {
          "base_uri": "https://localhost:8080/",
          "height": 53
        },
        "outputId": "cfb09c53-6bc7-43f8-d256-5c7c5df1dc34"
      },
      "source": [
        "y = x + 2\n",
        "print(y)"
      ],
      "execution_count": 3,
      "outputs": [
        {
          "output_type": "stream",
          "text": [
            "tensor([[3., 3.],\n",
            "        [3., 3.]], grad_fn=<AddBackward0>)\n"
          ],
          "name": "stdout"
        }
      ]
    },
    {
      "cell_type": "markdown",
      "metadata": {
        "id": "geCTDyc1mudV",
        "colab_type": "text"
      },
      "source": [
        "y was created as a result of an operation, so it has a grad_fn. / y 는 연산의 결과로 생성된 것이므로 grad_fn을 갖는다"
      ]
    },
    {
      "cell_type": "code",
      "metadata": {
        "id": "JjpkRRmimuoa",
        "colab_type": "code",
        "colab": {
          "base_uri": "https://localhost:8080/",
          "height": 35
        },
        "outputId": "4498de81-9b41-4b7b-f13d-c261e48bcace"
      },
      "source": [
        "print(y.grad_fn)"
      ],
      "execution_count": 4,
      "outputs": [
        {
          "output_type": "stream",
          "text": [
            "<AddBackward0 object at 0x7fea76b95470>\n"
          ],
          "name": "stdout"
        }
      ]
    },
    {
      "cell_type": "markdown",
      "metadata": {
        "id": "HLp8ibkWq_nH",
        "colab_type": "text"
      },
      "source": [
        "Do more operations on y / y 에 다른 연산을 수행\n",
        "\n"
      ]
    },
    {
      "cell_type": "code",
      "metadata": {
        "id": "CSxoXe9MrIAD",
        "colab_type": "code",
        "colab": {
          "base_uri": "https://localhost:8080/",
          "height": 53
        },
        "outputId": "35b5d434-bbea-4049-ca0d-e68348c2ddee"
      },
      "source": [
        "z = y * y * 3\n",
        "out = z.mean()\n",
        "\n",
        "print(z, out)"
      ],
      "execution_count": 5,
      "outputs": [
        {
          "output_type": "stream",
          "text": [
            "tensor([[27., 27.],\n",
            "        [27., 27.]], grad_fn=<MulBackward0>) tensor(27., grad_fn=<MeanBackward0>)\n"
          ],
          "name": "stdout"
        }
      ]
    },
    {
      "cell_type": "markdown",
      "metadata": {
        "id": "v6VjpFMfrPyn",
        "colab_type": "text"
      },
      "source": [
        ".requires_grad_( ... ) changes an existing Tensor’s requires_grad flag in-place. The input flag defaults to False if not given. / .requires_grad_( ... ) 는 기존 Tensor의 requires_grad 값을 바꿔치기 (in-place)하여 변경 입력값이 지정되지 않으면 기본값은 False "
      ]
    },
    {
      "cell_type": "code",
      "metadata": {
        "id": "o_bWv1atrWRf",
        "colab_type": "code",
        "colab": {
          "base_uri": "https://localhost:8080/",
          "height": 71
        },
        "outputId": "f48d7775-faa4-401b-f5a1-689419a53038"
      },
      "source": [
        "a = torch.randn(2, 2)\n",
        "a = ((a * 3) / (a - 1))\n",
        "\n",
        "print(a.requires_grad)\n",
        "\n",
        "a.requires_grad_(True)\n",
        "\n",
        "print(a.requires_grad)\n",
        "\n",
        "b = (a * a).sum()\n",
        "\n",
        "print(b.grad_fn)"
      ],
      "execution_count": 6,
      "outputs": [
        {
          "output_type": "stream",
          "text": [
            "False\n",
            "True\n",
            "<SumBackward0 object at 0x7fea76bfc860>\n"
          ],
          "name": "stdout"
        }
      ]
    }
  ]
}